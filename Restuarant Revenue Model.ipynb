{
 "cells": [
  {
   "cell_type": "code",
   "execution_count": 1,
   "metadata": {},
   "outputs": [],
   "source": [
    "import pandas as pd"
   ]
  },
  {
   "cell_type": "code",
   "execution_count": null,
   "metadata": {},
   "outputs": [],
   "source": []
  },
  {
   "cell_type": "code",
   "execution_count": 2,
   "metadata": {},
   "outputs": [],
   "source": [
    "model = pd.read_pickle(\"Restaurant2\")"
   ]
  },
  {
   "cell_type": "code",
   "execution_count": 3,
   "metadata": {},
   "outputs": [
    {
     "data": {
      "text/plain": [
       "DecisionTreeRegressor(max_depth=10)"
      ]
     },
     "execution_count": 3,
     "metadata": {},
     "output_type": "execute_result"
    }
   ],
   "source": [
    "model"
   ]
  },
  {
   "cell_type": "code",
   "execution_count": 4,
   "metadata": {},
   "outputs": [],
   "source": [
    "cols = ['P1','P2','P3','P4','P5','P6','P7','P8','P9','P10','P11','P12','P13','P14','P15','P16','P17','P18','P19','P20','P21','P22','P23','P24','P25','P26','P27','P28','P29','P30','P31','P32','P33','P34','P35','P36','P37','_Big Cities','_Other','_DT','_IL','_FC']"
   ]
  },
  {
   "cell_type": "code",
   "execution_count": null,
   "metadata": {},
   "outputs": [
    {
     "name": "stdin",
     "output_type": "stream",
     "text": [
      "Enter City (0/1):  1\n",
      "Enter DL (0/1):  0\n",
      "Enter IL (0/1):  1\n",
      "Enter FC (0/1):  1\n",
      "Enter value for P1 (1-25):  5\n",
      "Enter value for P2 (1-25):  8\n",
      "Enter value for P3 (1-25):  1\n",
      "Enter value for P4 (1-25):  3\n"
     ]
    }
   ],
   "source": [
    "#### big = eval(input(\"Enter Big City (0/1): \"))\n",
    "other =  eval(input(\"Enter City (0/1): \"))\n",
    "DL = eval(input(\"Enter DL (0/1): \"))\n",
    "IL = eval(input(\"Enter IL (0/1): \"))\n",
    "FC = eval(input(\"Enter FC (0/1): \"))\n",
    "P1 = eval(input('Enter value for P1 (1-25): '))\n",
    "P2 = eval(input('Enter value for P2 (1-25): '))\n",
    "P3 = eval(input('Enter value for P3 (1-25): '))\n",
    "P4 = eval(input('Enter value for P4 (1-25): '))\n",
    "P5 = eval(input('Enter value for P5 (1-25): '))\n",
    "P6 = eval(input('Enter value for P6 (1-25): '))\n",
    "P7 = eval(input('Enter value for P7 (1-25): '))\n",
    "P8 = eval(input('Enter value for P8 (1-25): '))\n",
    "P9 = eval(input('Enter value for P9 (1-25): '))\n",
    "P10 = eval(input('Enter value for P10 (1-25): '))\n",
    "P11 = eval(input('Enter value for P11 (1-25): '))\n",
    "P12 = eval(input('Enter value for P12 (1-25): '))\n",
    "P13 = eval(input('Enter value for P13 (1-25): '))\n",
    "P14 = eval(input('Enter value for P14 (1-25): '))\n",
    "P15 = eval(input('Enter value for P15 (1-25): '))\n",
    "P16 = eval(input('Enter value for P16 (1-25): '))\n",
    "P17 = eval(input('Enter value for P17 (1-25): '))\n",
    "P18 = eval(input('Enter value for P18 (1-25): '))\n",
    "P19 = eval(input('Enter value for P19 (1-25): '))\n",
    "P20 = eval(input('Enter value for P20 (1-25): '))\n",
    "P21 = eval(input('Enter value for P21 (1-25): '))\n",
    "P22 = eval(input('Enter value for P22 (1-25): '))\n",
    "P23 = eval(input('Enter value for P23 (1-25): '))\n",
    "P24 = eval(input('Enter value for P24 (1-25): '))\n",
    "P25 = eval(input('Enter value for P25 (1-25): '))\n",
    "P26 = eval(input('Enter value for P26 (1-25): '))\n",
    "P27 = eval(input('Enter value for P27 (1-25): '))\n",
    "P28 = eval(input('Enter value for P28 (1-25): '))\n",
    "P29 = eval(input('Enter value for P29 (1-25): '))\n",
    "P30 = eval(input('Enter value for P30 (1-25): '))\n",
    "P31 = eval(input('Enter value for P31 (1-25): '))\n",
    "P32 = eval(input('Enter value for P32 (1-25): '))\n",
    "P33 = eval(input('Enter value for P33 (1-25): '))\n",
    "P34 = eval(input('Enter value for P34 (1-25): '))\n",
    "P35 = eval(input('Enter value for P35 (1-25): '))\n",
    "P36 = eval(input('Enter value for P36 (1-25): '))\n",
    "P37 = eval(input('Enter value for P37 (1-25): '))\n",
    "\n",
    "query = pd.DataFrame({'_Big Cities':[big],\n",
    "                     '_Other':[other],\n",
    "                     '_DT':[DL],\n",
    "                     '_IL':[IL],\n",
    "                     '_FC':[FC],\n",
    "                     'P1':[P1],\n",
    "                     'P2':[P2],\n",
    "                     'P3':[P3],\n",
    "                     'P4':[P4],\n",
    "                     'P5':[P5],\n",
    "                     'P6':[P6],\n",
    "                     'P7':[P7],\n",
    "                     'P8':[P8],\n",
    "                     'P9':[P9],\n",
    "                     'P10':[P10],\n",
    "                     'P11':[P11],\n",
    "                     'P12':[P12],\n",
    "                     'P13':[P13],\n",
    "                     'P14':[P14],\n",
    "                     'P15':[P15],\n",
    "                     'P16':[P16],\n",
    "                     'P17':[P17],\n",
    "                     'P18':[P18],\n",
    "                     'P19':[P19],\n",
    "                     'P20':[P20],\n",
    "                     'P21':[P21],\n",
    "                     'P22':[P22],\n",
    "                     'P23':[P23],\n",
    "                     'P24':[P24],\n",
    "                     'P25':[P25],\n",
    "                     'P26':[P26],\n",
    "                     'P27':[P27],\n",
    "                     'P28':[P28],\n",
    "                     'P29':[P29],\n",
    "                     'P30':[P30],\n",
    "                     'P31':[P31],\n",
    "                     'P32':[P32],\n",
    "                     'P33':[P33],\n",
    "                     'P34':[P34],\n",
    "                     'P35':[P35],\n",
    "                     'P36':[P36],\n",
    "                     'P37':[P37],})"
   ]
  },
  {
   "cell_type": "code",
   "execution_count": null,
   "metadata": {},
   "outputs": [],
   "source": [
    "query\n"
   ]
  },
  {
   "cell_type": "code",
   "execution_count": null,
   "metadata": {},
   "outputs": [],
   "source": [
    "model.predict(query)[0]"
   ]
  },
  {
   "cell_type": "code",
   "execution_count": null,
   "metadata": {},
   "outputs": [],
   "source": []
  },
  {
   "cell_type": "code",
   "execution_count": null,
   "metadata": {},
   "outputs": [],
   "source": []
  }
 ],
 "metadata": {
  "kernelspec": {
   "display_name": "Python 3",
   "language": "python",
   "name": "python3"
  },
  "language_info": {
   "codemirror_mode": {
    "name": "ipython",
    "version": 3
   },
   "file_extension": ".py",
   "mimetype": "text/x-python",
   "name": "python",
   "nbconvert_exporter": "python",
   "pygments_lexer": "ipython3",
   "version": "3.8.8"
  }
 },
 "nbformat": 4,
 "nbformat_minor": 4
}
